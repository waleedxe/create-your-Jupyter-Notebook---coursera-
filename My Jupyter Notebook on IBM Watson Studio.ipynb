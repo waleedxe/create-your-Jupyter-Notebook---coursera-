{
 "cells": [
  {
   "cell_type": "markdown",
   "id": "5665ec2c",
   "metadata": {},
   "source": [
    "#  \"My Jupyter Notebook on IBM Watson Studio\""
   ]
  },
  {
   "cell_type": "markdown",
   "id": "eb3860e7",
   "metadata": {},
   "source": [
    "**Waleed Zayed**\n",
    "\n",
    "Data Analyst"
   ]
  },
  {
   "cell_type": "markdown",
   "id": "84bd818c",
   "metadata": {},
   "source": [
    "*I am interested in data science because to get new job*"
   ]
  },
  {
   "cell_type": "markdown",
   "id": "eaf289f5",
   "metadata": {},
   "source": [
    "### here is an example of operation in python programming language"
   ]
  },
  {
   "cell_type": "code",
   "execution_count": 1,
   "id": "a6794e3d",
   "metadata": {},
   "outputs": [
    {
     "name": "stdout",
     "output_type": "stream",
     "text": [
      "3\n"
     ]
    }
   ],
   "source": [
    "a = 1 \n",
    "b = 2 \n",
    "c = a +b \n",
    "print(c)"
   ]
  },
  {
   "cell_type": "markdown",
   "id": "525dc0e0",
   "metadata": {},
   "source": [
    "### skills for data scientist"
   ]
  },
  {
   "cell_type": "markdown",
   "id": "0fd502ea",
   "metadata": {},
   "source": [
    "\n",
    "|skills|\n",
    "|-----|\n",
    "|python|\n",
    "|SQL|\n",
    "|R|"
   ]
  }
 ],
 "metadata": {
  "kernelspec": {
   "display_name": "Python 3 (ipykernel)",
   "language": "python",
   "name": "python3"
  },
  "language_info": {
   "codemirror_mode": {
    "name": "ipython",
    "version": 3
   },
   "file_extension": ".py",
   "mimetype": "text/x-python",
   "name": "python",
   "nbconvert_exporter": "python",
   "pygments_lexer": "ipython3",
   "version": "3.9.13"
  }
 },
 "nbformat": 4,
 "nbformat_minor": 5
}
